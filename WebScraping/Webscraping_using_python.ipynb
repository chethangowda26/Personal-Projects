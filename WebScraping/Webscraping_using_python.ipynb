{
  "nbformat": 4,
  "nbformat_minor": 0,
  "metadata": {
    "colab": {
      "name": "Webscraping_using_python.ipynb",
      "provenance": []
    },
    "kernelspec": {
      "name": "python3",
      "display_name": "Python 3"
    }
  },
  "cells": [
    {
      "cell_type": "markdown",
      "metadata": {
        "id": "EgIbVCDAJiwD"
      },
      "source": [
        "## Load in the necessary libraries"
      ]
    },
    {
      "cell_type": "code",
      "metadata": {
        "id": "kPeXlBEpI6He"
      },
      "source": [
        "import requests\r\n",
        "from bs4 import BeautifulSoup as bs"
      ],
      "execution_count": 3,
      "outputs": []
    },
    {
      "cell_type": "markdown",
      "metadata": {
        "id": "NHhN9V2jJ9Cc"
      },
      "source": [
        "## Load our first page"
      ]
    },
    {
      "cell_type": "code",
      "metadata": {
        "colab": {
          "base_uri": "https://localhost:8080/"
        },
        "id": "LxyL8U_lJ4gS",
        "outputId": "dcafb143-5e7e-4c4a-976b-3fc3598a51b7"
      },
      "source": [
        "# load the webpage content\r\n",
        "\r\n",
        "r = requests.get(\"https://keithgalli.github.io/web-scraping/example.html\")\r\n",
        "\r\n",
        "#convert it to a beautiful soup object\r\n",
        "soup = bs(r.content)\r\n",
        "\r\n",
        "#make the content pretty to look at\r\n",
        "print(soup.prettify())\r\n"
      ],
      "execution_count": 4,
      "outputs": [
        {
          "output_type": "stream",
          "text": [
            "<html>\n",
            " <head>\n",
            "  <title>\n",
            "   HTML Example\n",
            "  </title>\n",
            " </head>\n",
            " <body>\n",
            "  <div align=\"middle\">\n",
            "   <h1>\n",
            "    HTML Webpage\n",
            "   </h1>\n",
            "   <p>\n",
            "    Link to more interesting example:\n",
            "    <a href=\"https://keithgalli.github.io/web-scraping/webpage.html\">\n",
            "     keithgalli.github.io/web-scraping/webpage.html\n",
            "    </a>\n",
            "   </p>\n",
            "  </div>\n",
            "  <h2>\n",
            "   A Header\n",
            "  </h2>\n",
            "  <p>\n",
            "   <i>\n",
            "    Some italicized text\n",
            "   </i>\n",
            "  </p>\n",
            "  <h2>\n",
            "   Another header\n",
            "  </h2>\n",
            "  <p id=\"paragraph-id\">\n",
            "   <b>\n",
            "    Some bold text\n",
            "   </b>\n",
            "  </p>\n",
            " </body>\n",
            "</html>\n",
            "\n"
          ],
          "name": "stdout"
        }
      ]
    },
    {
      "cell_type": "markdown",
      "metadata": {
        "id": "95w2EW2q8KEb"
      },
      "source": [
        "## Start Using Beautiful Soup to scrape"
      ]
    },
    {
      "cell_type": "markdown",
      "metadata": {
        "id": "EmRTs3Qp8Wna"
      },
      "source": [
        "### find and find_all"
      ]
    },
    {
      "cell_type": "code",
      "metadata": {
        "id": "lZnH7zLOcoYw",
        "colab": {
          "base_uri": "https://localhost:8080/"
        },
        "outputId": "647fed12-8cf8-466c-a385-bcd84d49a769"
      },
      "source": [
        " first_header = soup.find('h1')\r\n",
        " first_header\r\n",
        "\r\n",
        " headers = soup.find_all('h2')\r\n",
        " headers"
      ],
      "execution_count": 7,
      "outputs": [
        {
          "output_type": "execute_result",
          "data": {
            "text/plain": [
              "[<h2>A Header</h2>, <h2>Another header</h2>]"
            ]
          },
          "metadata": {
            "tags": []
          },
          "execution_count": 7
        }
      ]
    },
    {
      "cell_type": "code",
      "metadata": {
        "colab": {
          "base_uri": "https://localhost:8080/"
        },
        "id": "qfv5B8eV78OV",
        "outputId": "deec2a20-1afe-4628-b87e-9e6839cad906"
      },
      "source": [
        "## Pass in a list of elements to look for\r\n",
        "\r\n",
        "# this finds only the first element available in the web page\r\n",
        "first__header = soup.find([\"h2\",\"h1\"])\r\n",
        "first__header\r\n",
        "\r\n",
        "#find all the elements in the web page\r\n",
        "header = soup.find_all([\"h1\",\"h2\"])\r\n",
        "header"
      ],
      "execution_count": 15,
      "outputs": [
        {
          "output_type": "execute_result",
          "data": {
            "text/plain": [
              "[<h1>HTML Webpage</h1>, <h2>A Header</h2>, <h2>Another header</h2>]"
            ]
          },
          "metadata": {
            "tags": []
          },
          "execution_count": 15
        }
      ]
    },
    {
      "cell_type": "code",
      "metadata": {
        "colab": {
          "base_uri": "https://localhost:8080/"
        },
        "id": "ze0SXZfe_Aba",
        "outputId": "1cbe9482-c21b-425d-d490-bfccb67889f5"
      },
      "source": [
        "#you can pass attributes to the list\r\n",
        "paragraph = soup.find_all(\"p\", attrs={\"id\":'paragraph-id'})\r\n",
        "paragraph"
      ],
      "execution_count": 21,
      "outputs": [
        {
          "output_type": "execute_result",
          "data": {
            "text/plain": [
              "[<p id=\"paragraph-id\"><b>Some bold text</b></p>]"
            ]
          },
          "metadata": {
            "tags": []
          },
          "execution_count": 21
        }
      ]
    },
    {
      "cell_type": "code",
      "metadata": {
        "colab": {
          "base_uri": "https://localhost:8080/"
        },
        "id": "XgiIRQX1_6OS",
        "outputId": "33957ec1-98ba-4107-8197-9dfd34df770d"
      },
      "source": [
        "##nesting find/find_all calls\r\n",
        "body = soup.find('body')\r\n",
        "div = body.find('div')\r\n",
        "header = div.find('h1')\r\n",
        "header"
      ],
      "execution_count": 24,
      "outputs": [
        {
          "output_type": "execute_result",
          "data": {
            "text/plain": [
              "<h1>HTML Webpage</h1>"
            ]
          },
          "metadata": {
            "tags": []
          },
          "execution_count": 24
        }
      ]
    },
    {
      "cell_type": "code",
      "metadata": {
        "colab": {
          "base_uri": "https://localhost:8080/"
        },
        "id": "N0jTtNNXArhS",
        "outputId": "969377eb-20f2-4e80-c59d-93d1a3da6f7a"
      },
      "source": [
        "# we can search for speccific strings in our find/find_all calls\r\n",
        "# for that we need to import regex module\r\n",
        "\r\n",
        "import re\r\n",
        "\r\n",
        "paragraphs = soup.find_all(\"p\", string=re.compile(\"Some\"))\r\n",
        "paragraphs\r\n",
        "\r\n",
        "headers = soup.find_all(\"h2\", string=re.compile(\"(H|h)eader\"))\r\n",
        "headers"
      ],
      "execution_count": 41,
      "outputs": [
        {
          "output_type": "execute_result",
          "data": {
            "text/plain": [
              "[<h2>A Header</h2>, <h2>Another header</h2>]"
            ]
          },
          "metadata": {
            "tags": []
          },
          "execution_count": 41
        }
      ]
    },
    {
      "cell_type": "markdown",
      "metadata": {
        "id": "_mcOiGypkHWk"
      },
      "source": [
        "## Select(CSS Selector)"
      ]
    },
    {
      "cell_type": "code",
      "metadata": {
        "colab": {
          "base_uri": "https://localhost:8080/"
        },
        "id": "HfrhojBiBYV6",
        "outputId": "3aa65607-9f77-4c76-87cf-352a999f7249"
      },
      "source": [
        "print(soup.body.prettify())"
      ],
      "execution_count": 42,
      "outputs": [
        {
          "output_type": "stream",
          "text": [
            "<body>\n",
            " <div align=\"middle\">\n",
            "  <h1>\n",
            "   HTML Webpage\n",
            "  </h1>\n",
            "  <p>\n",
            "   Link to more interesting example:\n",
            "   <a href=\"https://keithgalli.github.io/web-scraping/webpage.html\">\n",
            "    keithgalli.github.io/web-scraping/webpage.html\n",
            "   </a>\n",
            "  </p>\n",
            " </div>\n",
            " <h2>\n",
            "  A Header\n",
            " </h2>\n",
            " <p>\n",
            "  <i>\n",
            "   Some italicized text\n",
            "  </i>\n",
            " </p>\n",
            " <h2>\n",
            "  Another header\n",
            " </h2>\n",
            " <p id=\"paragraph-id\">\n",
            "  <b>\n",
            "   Some bold text\n",
            "  </b>\n",
            " </p>\n",
            "</body>\n",
            "\n"
          ],
          "name": "stdout"
        }
      ]
    },
    {
      "cell_type": "code",
      "metadata": {
        "colab": {
          "base_uri": "https://localhost:8080/"
        },
        "id": "Dd7dwcpBkPcM",
        "outputId": "890e0c5a-2c7f-40b9-f2bd-cf8a800aa3eb"
      },
      "source": [
        "# select p elements after div\r\n",
        "content = soup.select('div p')\r\n",
        "content"
      ],
      "execution_count": 43,
      "outputs": [
        {
          "output_type": "execute_result",
          "data": {
            "text/plain": [
              "[<p>Link to more interesting example: <a href=\"https://keithgalli.github.io/web-scraping/webpage.html\">keithgalli.github.io/web-scraping/webpage.html</a></p>]"
            ]
          },
          "metadata": {
            "tags": []
          },
          "execution_count": 43
        }
      ]
    },
    {
      "cell_type": "code",
      "metadata": {
        "colab": {
          "base_uri": "https://localhost:8080/"
        },
        "id": "UdhyPLVEki-1",
        "outputId": "11e53cb4-cc0a-455b-ea52-35689e8e4040"
      },
      "source": [
        "#select every p element after h2 element\r\n",
        "paragraphs = soup.select('h2 ~ p')\r\n",
        "paragraphs"
      ],
      "execution_count": 45,
      "outputs": [
        {
          "output_type": "execute_result",
          "data": {
            "text/plain": [
              "[<p><i>Some italicized text</i></p>,\n",
              " <p id=\"paragraph-id\"><b>Some bold text</b></p>]"
            ]
          },
          "metadata": {
            "tags": []
          },
          "execution_count": 45
        }
      ]
    },
    {
      "cell_type": "code",
      "metadata": {
        "colab": {
          "base_uri": "https://localhost:8080/"
        },
        "id": "lvmIhR-vk9Q-",
        "outputId": "5fc0dd44-e30a-4dd2-9f32-833efe6c4be0"
      },
      "source": [
        "#grab paragaph element with paragraph id 'paragraph id' and inside that select the one with b element\r\n",
        "bold_text = soup.select('p#paragraph-id b')\r\n",
        "bold_text"
      ],
      "execution_count": 47,
      "outputs": [
        {
          "output_type": "execute_result",
          "data": {
            "text/plain": [
              "[<b>Some bold text</b>]"
            ]
          },
          "metadata": {
            "tags": []
          },
          "execution_count": 47
        }
      ]
    },
    {
      "cell_type": "code",
      "metadata": {
        "colab": {
          "base_uri": "https://localhost:8080/"
        },
        "id": "3AfhxuLnlSto",
        "outputId": "9032e789-014d-4832-9d78-af42b3b5dd6c"
      },
      "source": [
        "#select all p elements whose parent is body\r\n",
        "#observe that the immediate parent is just body and not div\r\n",
        "paragraphs = soup.select('body > p')\r\n",
        "print(paragraphs)\r\n",
        "\r\n",
        "for paragraph in paragraphs:\r\n",
        "  #print the paragraph with i element in it\r\n",
        "  print(paragraph.select('i'))"
      ],
      "execution_count": 50,
      "outputs": [
        {
          "output_type": "stream",
          "text": [
            "[<p><i>Some italicized text</i></p>, <p id=\"paragraph-id\"><b>Some bold text</b></p>]\n",
            "[<i>Some italicized text</i>]\n",
            "[]\n"
          ],
          "name": "stdout"
        }
      ]
    },
    {
      "cell_type": "code",
      "metadata": {
        "colab": {
          "base_uri": "https://localhost:8080/"
        },
        "id": "gYZRuF7smEDp",
        "outputId": "cb167e2e-3f3b-49b1-fd64-452ebe565fdf"
      },
      "source": [
        "#grab the element with specific property\r\n",
        "\r\n",
        "soup.select('[align=middle]')"
      ],
      "execution_count": 52,
      "outputs": [
        {
          "output_type": "execute_result",
          "data": {
            "text/plain": [
              "[<div align=\"middle\">\n",
              " <h1>HTML Webpage</h1>\n",
              " <p>Link to more interesting example: <a href=\"https://keithgalli.github.io/web-scraping/webpage.html\">keithgalli.github.io/web-scraping/webpage.html</a></p>\n",
              " </div>]"
            ]
          },
          "metadata": {
            "tags": []
          },
          "execution_count": 52
        }
      ]
    },
    {
      "cell_type": "markdown",
      "metadata": {
        "id": "c4sbFqX5m_cs"
      },
      "source": [
        "## Get different properties of the html"
      ]
    },
    {
      "cell_type": "code",
      "metadata": {
        "colab": {
          "base_uri": "https://localhost:8080/"
        },
        "id": "WxPyn2Gvm3Tl",
        "outputId": "eab4d2d7-4784-4386-eb9e-b0bdb9f0dc8f"
      },
      "source": [
        "#just to get the string and not the tags, use .string\r\n",
        "header = soup.find('h2')\r\n",
        "header.string\r\n",
        "\r\n",
        "#use get_text() function when there are multiple tags\r\n",
        "div = soup.find('div')\r\n",
        "print(div.prettify())\r\n",
        "print(div.get_text())"
      ],
      "execution_count": 61,
      "outputs": [
        {
          "output_type": "stream",
          "text": [
            "<div align=\"middle\">\n",
            " <h1>\n",
            "  HTML Webpage\n",
            " </h1>\n",
            " <p>\n",
            "  Link to more interesting example:\n",
            "  <a href=\"https://keithgalli.github.io/web-scraping/webpage.html\">\n",
            "   keithgalli.github.io/web-scraping/webpage.html\n",
            "  </a>\n",
            " </p>\n",
            "</div>\n",
            "\n",
            "\n",
            "HTML Webpage\n",
            "Link to more interesting example: keithgalli.github.io/web-scraping/webpage.html\n",
            "\n"
          ],
          "name": "stdout"
        }
      ]
    },
    {
      "cell_type": "markdown",
      "metadata": {
        "id": "Fkjg5yXMrHvB"
      },
      "source": [
        "## get specific property"
      ]
    },
    {
      "cell_type": "code",
      "metadata": {
        "colab": {
          "base_uri": "https://localhost:8080/",
          "height": 35
        },
        "id": "AgS_gQi7qRCW",
        "outputId": "d37416c2-5231-4c41-a94a-64459f970622"
      },
      "source": [
        "#to get just the link instead of any tags\r\n",
        "link = soup.find('a')\r\n",
        "link['href']\r\n",
        "\r\n",
        "#to get the name of the paragraph id which is 'paragraph-id'\r\n",
        "paragraphs = soup.select('p#paragraph-id')\r\n",
        "paragraphs[0]['id']"
      ],
      "execution_count": 71,
      "outputs": [
        {
          "output_type": "execute_result",
          "data": {
            "application/vnd.google.colaboratory.intrinsic+json": {
              "type": "string"
            },
            "text/plain": [
              "'paragraph-id'"
            ]
          },
          "metadata": {
            "tags": []
          },
          "execution_count": 71
        }
      ]
    },
    {
      "cell_type": "markdown",
      "metadata": {
        "id": "B-GY30qDtHKR"
      },
      "source": [
        "## Code Navigation"
      ]
    },
    {
      "cell_type": "code",
      "metadata": {
        "colab": {
          "base_uri": "https://localhost:8080/",
          "height": 35
        },
        "id": "dBPv60lErTUO",
        "outputId": "7fb6c3c0-cbd9-4a75-c9f9-87eecf33e006"
      },
      "source": [
        "#path syntax\r\n",
        "soup.body.div.h1.string"
      ],
      "execution_count": 75,
      "outputs": [
        {
          "output_type": "execute_result",
          "data": {
            "application/vnd.google.colaboratory.intrinsic+json": {
              "type": "string"
            },
            "text/plain": [
              "'HTML Webpage'"
            ]
          },
          "metadata": {
            "tags": []
          },
          "execution_count": 75
        }
      ]
    },
    {
      "cell_type": "code",
      "metadata": {
        "colab": {
          "base_uri": "https://localhost:8080/"
        },
        "id": "oIuerIRrtMox",
        "outputId": "ca491a78-5ef1-4730-fec8-f8294d29cdcc"
      },
      "source": [
        "print(soup.body.prettify())"
      ],
      "execution_count": 77,
      "outputs": [
        {
          "output_type": "stream",
          "text": [
            "<body>\n",
            " <div align=\"middle\">\n",
            "  <h1>\n",
            "   HTML Webpage\n",
            "  </h1>\n",
            "  <p>\n",
            "   Link to more interesting example:\n",
            "   <a href=\"https://keithgalli.github.io/web-scraping/webpage.html\">\n",
            "    keithgalli.github.io/web-scraping/webpage.html\n",
            "   </a>\n",
            "  </p>\n",
            " </div>\n",
            " <h2>\n",
            "  A Header\n",
            " </h2>\n",
            " <p>\n",
            "  <i>\n",
            "   Some italicized text\n",
            "  </i>\n",
            " </p>\n",
            " <h2>\n",
            "  Another header\n",
            " </h2>\n",
            " <p id=\"paragraph-id\">\n",
            "  <b>\n",
            "   Some bold text\n",
            "  </b>\n",
            " </p>\n",
            "</body>\n",
            "\n"
          ],
          "name": "stdout"
        }
      ]
    },
    {
      "cell_type": "code",
      "metadata": {
        "colab": {
          "base_uri": "https://localhost:8080/"
        },
        "id": "eiHbFL1Wta2C",
        "outputId": "f77b4ac7-f9b9-4b1b-ce9d-74c4520a855c"
      },
      "source": [
        "#know the terms: parents, child, siblings\r\n",
        "soup.body.find('div').find_next_siblings()"
      ],
      "execution_count": 79,
      "outputs": [
        {
          "output_type": "execute_result",
          "data": {
            "text/plain": [
              "[<h2>A Header</h2>,\n",
              " <p><i>Some italicized text</i></p>,\n",
              " <h2>Another header</h2>,\n",
              " <p id=\"paragraph-id\"><b>Some bold text</b></p>]"
            ]
          },
          "metadata": {
            "tags": []
          },
          "execution_count": 79
        }
      ]
    },
    {
      "cell_type": "markdown",
      "metadata": {
        "id": "Y2tqRSArtzN8"
      },
      "source": [
        "#Exercises"
      ]
    },
    {
      "cell_type": "markdown",
      "metadata": {
        "id": "6FbaBJz5t9Ox"
      },
      "source": [
        "## Go to https://keithgalli.github.io/web-scraping/webpage.html"
      ]
    },
    {
      "cell_type": "markdown",
      "metadata": {
        "id": "iRR1MGppv_it"
      },
      "source": [
        "###Load the webpage"
      ]
    },
    {
      "cell_type": "code",
      "metadata": {
        "colab": {
          "base_uri": "https://localhost:8080/"
        },
        "id": "zFMCAAOQtz2S",
        "outputId": "eb7ae479-adc4-49a0-915e-f84f4ec1b011"
      },
      "source": [
        "r = requests.get('https://keithgalli.github.io/web-scraping/webpage.html')\r\n",
        "\r\n",
        "webpage = bs(r.content)\r\n",
        "\r\n",
        "print(webpage.prettify())"
      ],
      "execution_count": 81,
      "outputs": [
        {
          "output_type": "stream",
          "text": [
            "<html>\n",
            " <head>\n",
            "  <title>\n",
            "   Keith Galli's Page\n",
            "  </title>\n",
            "  <style>\n",
            "   table {\n",
            "    border-collapse: collapse;\n",
            "  }\n",
            "  th {\n",
            "    padding:5px;\n",
            "  }\n",
            "  td {\n",
            "    border: 1px solid #ddd;\n",
            "    padding: 5px;\n",
            "  }\n",
            "  tr:nth-child(even) {\n",
            "    background-color: #f2f2f2;\n",
            "  }\n",
            "  th {\n",
            "    padding-top: 12px;\n",
            "    padding-bottom: 12px;\n",
            "    text-align: left;\n",
            "    background-color: #add8e6;\n",
            "    color: black;\n",
            "  }\n",
            "  .block {\n",
            "  width: 100px;\n",
            "  /*float: left;*/\n",
            "    display: inline-block;\n",
            "    zoom: 1;\n",
            "  }\n",
            "  .column {\n",
            "  float: left;\n",
            "  height: 200px;\n",
            "  /*width: 33.33%;*/\n",
            "  padding: 5px;\n",
            "  }\n",
            "\n",
            "  .row::after {\n",
            "    content: \"\";\n",
            "    clear: both;\n",
            "    display: table;\n",
            "  }\n",
            "  </style>\n",
            " </head>\n",
            " <body>\n",
            "  <h1>\n",
            "   Welcome to my page!\n",
            "  </h1>\n",
            "  <img src=\"./images/selfie1.jpg\" width=\"300px\"/>\n",
            "  <h2>\n",
            "   About me\n",
            "  </h2>\n",
            "  <p>\n",
            "   Hi, my name is Keith and I am a YouTuber who focuses on content related to programming, data science, and machine learning!\n",
            "  </p>\n",
            "  <p>\n",
            "   Here is a link to my channel:\n",
            "   <a href=\"https://www.youtube.com/kgmit\">\n",
            "    youtube.com/kgmit\n",
            "   </a>\n",
            "  </p>\n",
            "  <p>\n",
            "   I grew up in the great state of New Hampshire here in the USA. From an early age I always loved math. Around my senior year of high school, my brother first introduced me to programming. I found it a creative way to apply the same type of logical thinking skills that I enjoyed with math. This influenced me to study computer science in college and ultimately create a YouTube channel to share some things that I have learned along the way.\n",
            "  </p>\n",
            "  <h3>\n",
            "   Hobbies\n",
            "  </h3>\n",
            "  <p>\n",
            "   Believe it or not, I don't code 24/7. I love doing all sorts of active things. I like to play ice hockey &amp; table tennis as well as run, hike, skateboard, and snowboard. In addition to sports, I am a board game enthusiast. The two that I've been playing the most recently are\n",
            "   <i>\n",
            "    Settlers of Catan\n",
            "   </i>\n",
            "   and\n",
            "   <i>\n",
            "    Othello\n",
            "   </i>\n",
            "   .\n",
            "  </p>\n",
            "  <h3>\n",
            "   Fun Facts\n",
            "  </h3>\n",
            "  <ul class=\"fun-facts\">\n",
            "   <li>\n",
            "    Owned my dream car in high school\n",
            "    <a href=\"#footer\">\n",
            "     <sup>\n",
            "      1\n",
            "     </sup>\n",
            "    </a>\n",
            "   </li>\n",
            "   <li>\n",
            "    Middle name is Ronald\n",
            "   </li>\n",
            "   <li>\n",
            "    Never had been on a plane until college\n",
            "   </li>\n",
            "   <li>\n",
            "    Dunkin Donuts coffee is better than Starbucks\n",
            "   </li>\n",
            "   <li>\n",
            "    A favorite book series of mine is\n",
            "    <i>\n",
            "     Ender's Game\n",
            "    </i>\n",
            "   </li>\n",
            "   <li>\n",
            "    Current video game of choice is\n",
            "    <i>\n",
            "     Rocket League\n",
            "    </i>\n",
            "   </li>\n",
            "   <li>\n",
            "    The band that I've seen the most times live is the\n",
            "    <i>\n",
            "     Zac Brown Band\n",
            "    </i>\n",
            "   </li>\n",
            "  </ul>\n",
            "  <h2>\n",
            "   Social Media\n",
            "  </h2>\n",
            "  I encourage you to check out my content on all social media platforms\n",
            "  <br/>\n",
            "  <ul class=\"socials\">\n",
            "   <li class=\"social instagram\">\n",
            "    <b>\n",
            "     Instagram:\n",
            "    </b>\n",
            "    <a href=\"https://www.instagram.com/keithgalli/\">\n",
            "     https://www.instagram.com/keithgalli/\n",
            "    </a>\n",
            "   </li>\n",
            "   <li class=\"social twitter\">\n",
            "    <b>\n",
            "     Twitter:\n",
            "    </b>\n",
            "    <a href=\"https://twitter.com/keithgalli\">\n",
            "     https://twitter.com/keithgalli\n",
            "    </a>\n",
            "   </li>\n",
            "   <li class=\"social linkedin\">\n",
            "    <b>\n",
            "     LinkedIn:\n",
            "    </b>\n",
            "    <a href=\"https://www.linkedin.com/in/keithgalli/\">\n",
            "     https://www.linkedin.com/in/keithgalli/\n",
            "    </a>\n",
            "   </li>\n",
            "   <li class=\"social tiktok\">\n",
            "    <b>\n",
            "     TikTok:\n",
            "    </b>\n",
            "    <a href=\"https://www.tiktok.com/@keithgalli\">\n",
            "     https://www.tiktok.com/@keithgalli\n",
            "    </a>\n",
            "   </li>\n",
            "  </ul>\n",
            "  <h2>\n",
            "   Photos\n",
            "  </h2>\n",
            "  Here are a few photos from a trip to italy I took last year\n",
            "  <div class=\"row\">\n",
            "   <div class=\"column\">\n",
            "    <img alt=\"Lake Como\" src=\"images/italy/lake_como.jpg\" style=\"height:100%\"/>\n",
            "   </div>\n",
            "   <div class=\"column\">\n",
            "    <img alt=\"Pontevecchio, Florence\" src=\"images/italy/pontevecchio.jpg\" style=\"height:100%\"/>\n",
            "   </div>\n",
            "   <div class=\"column\">\n",
            "    <img alt=\"Riomaggiore, Cinque de Terre\" src=\"images/italy/riomaggiore.jpg\" style=\"height:100%\"/>\n",
            "   </div>\n",
            "  </div>\n",
            "  <div>\n",
            "  </div>\n",
            "  <h2>\n",
            "   Table\n",
            "  </h2>\n",
            "  My MIT hockey stats :)\n",
            "  <br/>\n",
            "  <table class=\"hockey-stats\">\n",
            "   <thead>\n",
            "    <tr>\n",
            "     <th class=\"season\" data-sort=\"\">\n",
            "      S\n",
            "     </th>\n",
            "     <th class=\"team\" data-sort=\"team\">\n",
            "      Team\n",
            "     </th>\n",
            "     <th class=\"league\" data-sort=\"league\">\n",
            "      League\n",
            "     </th>\n",
            "     <th class=\"regular gp\" data-sort=\"gp\">\n",
            "      GP\n",
            "     </th>\n",
            "     <th class=\"regular g\" data-sort=\"g\">\n",
            "      G\n",
            "     </th>\n",
            "     <th class=\"regular a\" data-sort=\"a\">\n",
            "      A\n",
            "     </th>\n",
            "     <th class=\"regular tp\" data-sort=\"tp\">\n",
            "      TP\n",
            "     </th>\n",
            "     <th class=\"regular pim\" data-sort=\"pim\">\n",
            "      PIM\n",
            "     </th>\n",
            "     <th class=\"regular pm\" data-sort=\"pm\">\n",
            "      +/-\n",
            "     </th>\n",
            "     <th class=\"separator\">\n",
            "     </th>\n",
            "     <th class=\"postseason\">\n",
            "      POST\n",
            "     </th>\n",
            "     <th class=\"postseason gp\" data-sort=\"playoffs-gp\">\n",
            "      GP\n",
            "     </th>\n",
            "     <th class=\"postseason g\" data-sort=\"playoffs-g\">\n",
            "      G\n",
            "     </th>\n",
            "     <th class=\"postseason a\" data-sort=\"playoffs-a\">\n",
            "      A\n",
            "     </th>\n",
            "     <th class=\"postseason tp\" data-sort=\"playoffs-tp\">\n",
            "      TP\n",
            "     </th>\n",
            "     <th class=\"postseason pim\" data-sort=\"playoffs-pim\">\n",
            "      PIM\n",
            "     </th>\n",
            "     <th class=\"postseason pm\" data-sort=\"playoffs-pm\">\n",
            "      +/-\n",
            "     </th>\n",
            "    </tr>\n",
            "   </thead>\n",
            "   <tbody>\n",
            "    <tr class=\"team-continent-NA \">\n",
            "     <td class=\"season sorted\">\n",
            "      2014-15\n",
            "     </td>\n",
            "     <td class=\"team\">\n",
            "      <i>\n",
            "       <img src=\"images/flag.png\"/>\n",
            "      </i>\n",
            "      <span class=\"txt-blue\">\n",
            "       <a href=\"https://www.eliteprospects.com/team/10263/mit-mass.-inst.-of-tech./2014-2015?tab=stats\">\n",
            "        MIT (Mass. Inst. of Tech.)\n",
            "       </a>\n",
            "      </span>\n",
            "     </td>\n",
            "     <td class=\"league\">\n",
            "      <a href=\"https://www.eliteprospects.com/league/acha-ii/stats/2014-2015\">\n",
            "       ACHA II\n",
            "      </a>\n",
            "     </td>\n",
            "     <td class=\"regular gp\">\n",
            "      17\n",
            "     </td>\n",
            "     <td class=\"regular g\">\n",
            "      3\n",
            "     </td>\n",
            "     <td class=\"regular a\">\n",
            "      9\n",
            "     </td>\n",
            "     <td class=\"regular tp\">\n",
            "      12\n",
            "     </td>\n",
            "     <td class=\"regular pim\">\n",
            "      20\n",
            "     </td>\n",
            "     <td class=\"regular pm\">\n",
            "     </td>\n",
            "     <td class=\"separator\">\n",
            "      |\n",
            "     </td>\n",
            "     <td class=\"postseason\">\n",
            "      <a href=\"https://www.eliteprospects.com/league/acha-ii/stats/2014-2015\">\n",
            "      </a>\n",
            "     </td>\n",
            "     <td class=\"postseason gp\">\n",
            "     </td>\n",
            "     <td class=\"postseason g\">\n",
            "     </td>\n",
            "     <td class=\"postseason a\">\n",
            "     </td>\n",
            "     <td class=\"postseason tp\">\n",
            "     </td>\n",
            "     <td class=\"postseason pim\">\n",
            "     </td>\n",
            "     <td class=\"postseason pm\">\n",
            "     </td>\n",
            "    </tr>\n",
            "    <tr class=\"team-continent-NA \">\n",
            "     <td class=\"season sorted\">\n",
            "      2015-16\n",
            "     </td>\n",
            "     <td class=\"team\">\n",
            "      <i>\n",
            "       <img src=\"images/flag.png\"/>\n",
            "      </i>\n",
            "      <span class=\"txt-blue\">\n",
            "       <a href=\"https://www.eliteprospects.com/team/10263/mit-mass.-inst.-of-tech./2015-2016?tab=stats\">\n",
            "        MIT (Mass. Inst. of Tech.)\n",
            "       </a>\n",
            "      </span>\n",
            "     </td>\n",
            "     <td class=\"league\">\n",
            "      <a href=\"https://www.eliteprospects.com/league/acha-ii/stats/2015-2016\">\n",
            "       ACHA II\n",
            "      </a>\n",
            "     </td>\n",
            "     <td class=\"regular gp\">\n",
            "      9\n",
            "     </td>\n",
            "     <td class=\"regular g\">\n",
            "      1\n",
            "     </td>\n",
            "     <td class=\"regular a\">\n",
            "      1\n",
            "     </td>\n",
            "     <td class=\"regular tp\">\n",
            "      2\n",
            "     </td>\n",
            "     <td class=\"regular pim\">\n",
            "      2\n",
            "     </td>\n",
            "     <td class=\"regular pm\">\n",
            "     </td>\n",
            "     <td class=\"separator\">\n",
            "      |\n",
            "     </td>\n",
            "     <td class=\"postseason\">\n",
            "      <a href=\"https://www.eliteprospects.com/league/acha-ii/stats/2015-2016\">\n",
            "      </a>\n",
            "     </td>\n",
            "     <td class=\"postseason gp\">\n",
            "     </td>\n",
            "     <td class=\"postseason g\">\n",
            "     </td>\n",
            "     <td class=\"postseason a\">\n",
            "     </td>\n",
            "     <td class=\"postseason tp\">\n",
            "     </td>\n",
            "     <td class=\"postseason pim\">\n",
            "     </td>\n",
            "     <td class=\"postseason pm\">\n",
            "     </td>\n",
            "    </tr>\n",
            "    <tr class=\"team-continent-NA \">\n",
            "     <td class=\"season sorted\">\n",
            "      2016-17\n",
            "     </td>\n",
            "     <td class=\"team\">\n",
            "      <i>\n",
            "       <img src=\"images/flag.png\"/>\n",
            "      </i>\n",
            "      <span class=\"txt-blue\">\n",
            "       <a href=\"https://www.eliteprospects.com/team/10263/mit-mass.-inst.-of-tech./2016-2017?tab=stats\">\n",
            "        MIT (Mass. Inst. of Tech.)\n",
            "       </a>\n",
            "      </span>\n",
            "     </td>\n",
            "     <td class=\"league\">\n",
            "      <a href=\"https://www.eliteprospects.com/league/acha-ii/stats/2016-2017\">\n",
            "       ACHA II\n",
            "      </a>\n",
            "     </td>\n",
            "     <td class=\"regular gp\">\n",
            "      12\n",
            "     </td>\n",
            "     <td class=\"regular g\">\n",
            "      5\n",
            "     </td>\n",
            "     <td class=\"regular a\">\n",
            "      5\n",
            "     </td>\n",
            "     <td class=\"regular tp\">\n",
            "      10\n",
            "     </td>\n",
            "     <td class=\"regular pim\">\n",
            "      8\n",
            "     </td>\n",
            "     <td class=\"regular pm\">\n",
            "      0\n",
            "     </td>\n",
            "     <td class=\"separator\">\n",
            "      |\n",
            "     </td>\n",
            "     <td class=\"postseason\">\n",
            "     </td>\n",
            "     <td class=\"postseason gp\">\n",
            "     </td>\n",
            "     <td class=\"postseason g\">\n",
            "     </td>\n",
            "     <td class=\"postseason a\">\n",
            "     </td>\n",
            "     <td class=\"postseason tp\">\n",
            "     </td>\n",
            "     <td class=\"postseason pim\">\n",
            "     </td>\n",
            "     <td class=\"postseason pm\">\n",
            "     </td>\n",
            "    </tr>\n",
            "    <tr class=\"team-continent-EU \">\n",
            "     <td class=\"season sorted\">\n",
            "      2017-18\n",
            "     </td>\n",
            "     <td class=\"team\">\n",
            "      Did not play\n",
            "     </td>\n",
            "     <td class=\"league\">\n",
            "      <a href=\"https://www.eliteprospects.com/stats\">\n",
            "      </a>\n",
            "     </td>\n",
            "     <td class=\"regular gp\">\n",
            "     </td>\n",
            "     <td class=\"regular g\">\n",
            "     </td>\n",
            "     <td class=\"regular a\">\n",
            "     </td>\n",
            "     <td class=\"regular tp\">\n",
            "     </td>\n",
            "     <td class=\"regular pim\">\n",
            "     </td>\n",
            "     <td class=\"regular pm\">\n",
            "     </td>\n",
            "     <td class=\"separator\">\n",
            "      |\n",
            "     </td>\n",
            "     <td class=\"postseason\">\n",
            "      <a href=\"https://www.eliteprospects.com/stats\">\n",
            "      </a>\n",
            "     </td>\n",
            "     <td class=\"postseason gp\">\n",
            "     </td>\n",
            "     <td class=\"postseason g\">\n",
            "     </td>\n",
            "     <td class=\"postseason a\">\n",
            "     </td>\n",
            "     <td class=\"postseason tp\">\n",
            "     </td>\n",
            "     <td class=\"postseason pim\">\n",
            "     </td>\n",
            "     <td class=\"postseason pm\">\n",
            "     </td>\n",
            "    </tr>\n",
            "    <tr class=\"team-continent-NA \">\n",
            "     <td class=\"season sorted\">\n",
            "      2018-19\n",
            "     </td>\n",
            "     <td class=\"team\">\n",
            "      <i>\n",
            "       <img src=\"images/flag.png\"/>\n",
            "      </i>\n",
            "      <span class=\"txt-blue\">\n",
            "       <a href=\"https://www.eliteprospects.com/team/10263/mit-mass.-inst.-of-tech./2018-2019?tab=stats\">\n",
            "        MIT (Mass. Inst. of Tech.)\n",
            "       </a>\n",
            "      </span>\n",
            "     </td>\n",
            "     <td class=\"league\">\n",
            "      <a href=\"https://www.eliteprospects.com/league/acha-iii/stats/2018-2019\">\n",
            "       ACHA III\n",
            "      </a>\n",
            "     </td>\n",
            "     <td class=\"regular gp\">\n",
            "      8\n",
            "     </td>\n",
            "     <td class=\"regular g\">\n",
            "      5\n",
            "     </td>\n",
            "     <td class=\"regular a\">\n",
            "      10\n",
            "     </td>\n",
            "     <td class=\"regular tp\">\n",
            "      15\n",
            "     </td>\n",
            "     <td class=\"regular pim\">\n",
            "      8\n",
            "     </td>\n",
            "     <td class=\"regular pm\">\n",
            "     </td>\n",
            "     <td class=\"separator\">\n",
            "      |\n",
            "     </td>\n",
            "     <td class=\"postseason\">\n",
            "      <a href=\"https://www.eliteprospects.com/league/acha-iii/stats/2018-2019\">\n",
            "      </a>\n",
            "     </td>\n",
            "     <td class=\"postseason gp\">\n",
            "     </td>\n",
            "     <td class=\"postseason g\">\n",
            "     </td>\n",
            "     <td class=\"postseason a\">\n",
            "     </td>\n",
            "     <td class=\"postseason tp\">\n",
            "     </td>\n",
            "     <td class=\"postseason pim\">\n",
            "     </td>\n",
            "     <td class=\"postseason pm\">\n",
            "     </td>\n",
            "    </tr>\n",
            "   </tbody>\n",
            "  </table>\n",
            "  <h2>\n",
            "   Mystery Message Challenge!\n",
            "  </h2>\n",
            "  <p>\n",
            "   If you scrape the links below grabbing the &lt;p&gt; tag with id=\"secret-word\", you'll discover a secret message :)\n",
            "  </p>\n",
            "  <div width=\"50%\">\n",
            "   <div align=\"left\" class=\"block\">\n",
            "    <ul>\n",
            "     <li>\n",
            "      <a href=\"challenge/file_1.html\">\n",
            "       File 1\n",
            "      </a>\n",
            "     </li>\n",
            "     <li>\n",
            "      <a href=\"challenge/file_2.html\">\n",
            "       File 2\n",
            "      </a>\n",
            "     </li>\n",
            "     <li>\n",
            "      <a href=\"challenge/file_3.html\">\n",
            "       File 3\n",
            "      </a>\n",
            "     </li>\n",
            "     <li>\n",
            "      <a href=\"challenge/file_4.html\">\n",
            "       File 4\n",
            "      </a>\n",
            "     </li>\n",
            "     <li>\n",
            "      <a href=\"challenge/file_5.html\">\n",
            "       File 5\n",
            "      </a>\n",
            "     </li>\n",
            "    </ul>\n",
            "   </div>\n",
            "   <div align=\"center\" class=\"block\">\n",
            "    <ul>\n",
            "     <li>\n",
            "      <a href=\"challenge/file_6.html\">\n",
            "       File 6\n",
            "      </a>\n",
            "     </li>\n",
            "     <li>\n",
            "      <a href=\"challenge/file_7.html\">\n",
            "       File 7\n",
            "      </a>\n",
            "     </li>\n",
            "     <li>\n",
            "      <a href=\"challenge/file_8.html\">\n",
            "       File 8\n",
            "      </a>\n",
            "     </li>\n",
            "     <li>\n",
            "      <a href=\"challenge/file_9.html\">\n",
            "       File 9\n",
            "      </a>\n",
            "     </li>\n",
            "     <li>\n",
            "      <a href=\"challenge/file_10.html\">\n",
            "       File 10\n",
            "      </a>\n",
            "     </li>\n",
            "    </ul>\n",
            "   </div>\n",
            "  </div>\n",
            "  <h2>\n",
            "   Footnotes\n",
            "  </h2>\n",
            "  <p id=\"footer\">\n",
            "   1. This was actually a minivan that I named Debora. Maybe not my dream car, but I loved her nonetheless.\n",
            "  </p>\n",
            " </body>\n",
            "</html>\n"
          ],
          "name": "stdout"
        }
      ]
    },
    {
      "cell_type": "markdown",
      "metadata": {
        "id": "yZ8DDk2nxkdw"
      },
      "source": [
        "## Get links\r\n",
        "\r\n",
        "### There's 3 diff ways of doing this"
      ]
    },
    {
      "cell_type": "code",
      "metadata": {
        "colab": {
          "base_uri": "https://localhost:8080/"
        },
        "id": "gI6HoESCtp2v",
        "outputId": "5269eff2-bd9e-48e9-b70b-d1a05d21585d"
      },
      "source": [
        "links = webpage.select('ul.socials a')\r\n",
        "actual_links = [link['href'] for link in links]\r\n",
        "actual_links"
      ],
      "execution_count": 88,
      "outputs": [
        {
          "output_type": "execute_result",
          "data": {
            "text/plain": [
              "['https://www.instagram.com/keithgalli/',\n",
              " 'https://twitter.com/keithgalli',\n",
              " 'https://www.linkedin.com/in/keithgalli/',\n",
              " 'https://www.tiktok.com/@keithgalli']"
            ]
          },
          "metadata": {
            "tags": []
          },
          "execution_count": 88
        }
      ]
    },
    {
      "cell_type": "code",
      "metadata": {
        "colab": {
          "base_uri": "https://localhost:8080/"
        },
        "id": "aJxrjv0SyWze",
        "outputId": "5b3cc7fd-88e8-43cd-fcab-f84f6779eae9"
      },
      "source": [
        "ulist = webpage.find('ul',attrs={\"class\":\"socials\"})\r\n",
        "links = ulist.find_all('a')\r\n",
        "actual_links = [link['href'] for link in links]\r\n",
        "actual_links"
      ],
      "execution_count": 94,
      "outputs": [
        {
          "output_type": "execute_result",
          "data": {
            "text/plain": [
              "['https://www.instagram.com/keithgalli/',\n",
              " 'https://twitter.com/keithgalli',\n",
              " 'https://www.linkedin.com/in/keithgalli/',\n",
              " 'https://www.tiktok.com/@keithgalli']"
            ]
          },
          "metadata": {
            "tags": []
          },
          "execution_count": 94
        }
      ]
    },
    {
      "cell_type": "code",
      "metadata": {
        "colab": {
          "base_uri": "https://localhost:8080/"
        },
        "id": "puBm4wD9yc9E",
        "outputId": "84ce344c-ae86-4c5d-a18b-a2ca9e1e54ea"
      },
      "source": [
        "links = webpage.select('li.social a')\r\n",
        "actual_links = [link['href'] for link in links]\r\n",
        "actual_links"
      ],
      "execution_count": 96,
      "outputs": [
        {
          "output_type": "execute_result",
          "data": {
            "text/plain": [
              "['https://www.instagram.com/keithgalli/',\n",
              " 'https://twitter.com/keithgalli',\n",
              " 'https://www.linkedin.com/in/keithgalli/',\n",
              " 'https://www.tiktok.com/@keithgalli']"
            ]
          },
          "metadata": {
            "tags": []
          },
          "execution_count": 96
        }
      ]
    },
    {
      "cell_type": "markdown",
      "metadata": {
        "id": "hdVRebXI2Z6l"
      },
      "source": [
        "## Scrape the table"
      ]
    },
    {
      "cell_type": "code",
      "metadata": {
        "id": "DIb0ExC34Haj"
      },
      "source": [
        "l = []\r\n",
        "for tr in table_rows:\r\n",
        "    td = tr.find_all('td')\r\n",
        "    row = [tr.text for tr in td]\r\n",
        "    l.append(row)\r\n",
        "pd.DataFrame(l, columns=[\"A\", \"B\", ...])"
      ],
      "execution_count": null,
      "outputs": []
    },
    {
      "cell_type": "code",
      "metadata": {
        "colab": {
          "base_uri": "https://localhost:8080/",
          "height": 195
        },
        "id": "aBa4P6HAzg1t",
        "outputId": "4bc43a05-d151-4795-8738-0f4f0ee5eeab"
      },
      "source": [
        "import pandas as pd\r\n",
        "\r\n",
        "tables = webpage.select(\"table.hockey-stats\")[0]\r\n",
        "columns = tables.find('thead').find_all('th')\r\n",
        "column_names = [c.string for c in columns]\r\n",
        "column_names\r\n",
        "\r\n",
        "table_rows = tables.find('tbody').find_all('tr')\r\n",
        "table_rows[0]\r\n",
        "\r\n",
        "l = []\r\n",
        "for tr in table_rows:\r\n",
        "  td=tr.find_all('td')\r\n",
        "  row =[str(tr.get_text()).strip() for tr in td]\r\n",
        "  l.append(row)\r\n",
        "\r\n",
        "df = pd.DataFrame(l,columns = column_names)\r\n",
        "df.head() "
      ],
      "execution_count": 108,
      "outputs": [
        {
          "output_type": "execute_result",
          "data": {
            "text/html": [
              "<div>\n",
              "<style scoped>\n",
              "    .dataframe tbody tr th:only-of-type {\n",
              "        vertical-align: middle;\n",
              "    }\n",
              "\n",
              "    .dataframe tbody tr th {\n",
              "        vertical-align: top;\n",
              "    }\n",
              "\n",
              "    .dataframe thead th {\n",
              "        text-align: right;\n",
              "    }\n",
              "</style>\n",
              "<table border=\"1\" class=\"dataframe\">\n",
              "  <thead>\n",
              "    <tr style=\"text-align: right;\">\n",
              "      <th></th>\n",
              "      <th>S</th>\n",
              "      <th>Team</th>\n",
              "      <th>League</th>\n",
              "      <th>GP</th>\n",
              "      <th>G</th>\n",
              "      <th>A</th>\n",
              "      <th>TP</th>\n",
              "      <th>PIM</th>\n",
              "      <th>+/-</th>\n",
              "      <th></th>\n",
              "      <th>POST</th>\n",
              "      <th>GP</th>\n",
              "      <th>G</th>\n",
              "      <th>A</th>\n",
              "      <th>TP</th>\n",
              "      <th>PIM</th>\n",
              "      <th>+/-</th>\n",
              "    </tr>\n",
              "  </thead>\n",
              "  <tbody>\n",
              "    <tr>\n",
              "      <th>0</th>\n",
              "      <td>2014-15</td>\n",
              "      <td>MIT (Mass. Inst. of Tech.)</td>\n",
              "      <td>ACHA II</td>\n",
              "      <td>17</td>\n",
              "      <td>3</td>\n",
              "      <td>9</td>\n",
              "      <td>12</td>\n",
              "      <td>20</td>\n",
              "      <td></td>\n",
              "      <td>|</td>\n",
              "      <td></td>\n",
              "      <td></td>\n",
              "      <td></td>\n",
              "      <td></td>\n",
              "      <td></td>\n",
              "      <td></td>\n",
              "      <td></td>\n",
              "    </tr>\n",
              "    <tr>\n",
              "      <th>1</th>\n",
              "      <td>2015-16</td>\n",
              "      <td>MIT (Mass. Inst. of Tech.)</td>\n",
              "      <td>ACHA II</td>\n",
              "      <td>9</td>\n",
              "      <td>1</td>\n",
              "      <td>1</td>\n",
              "      <td>2</td>\n",
              "      <td>2</td>\n",
              "      <td></td>\n",
              "      <td>|</td>\n",
              "      <td></td>\n",
              "      <td></td>\n",
              "      <td></td>\n",
              "      <td></td>\n",
              "      <td></td>\n",
              "      <td></td>\n",
              "      <td></td>\n",
              "    </tr>\n",
              "    <tr>\n",
              "      <th>2</th>\n",
              "      <td>2016-17</td>\n",
              "      <td>MIT (Mass. Inst. of Tech.)</td>\n",
              "      <td>ACHA II</td>\n",
              "      <td>12</td>\n",
              "      <td>5</td>\n",
              "      <td>5</td>\n",
              "      <td>10</td>\n",
              "      <td>8</td>\n",
              "      <td>0</td>\n",
              "      <td>|</td>\n",
              "      <td></td>\n",
              "      <td></td>\n",
              "      <td></td>\n",
              "      <td></td>\n",
              "      <td></td>\n",
              "      <td></td>\n",
              "      <td></td>\n",
              "    </tr>\n",
              "    <tr>\n",
              "      <th>3</th>\n",
              "      <td>2017-18</td>\n",
              "      <td>Did not play</td>\n",
              "      <td></td>\n",
              "      <td></td>\n",
              "      <td></td>\n",
              "      <td></td>\n",
              "      <td></td>\n",
              "      <td></td>\n",
              "      <td></td>\n",
              "      <td>|</td>\n",
              "      <td></td>\n",
              "      <td></td>\n",
              "      <td></td>\n",
              "      <td></td>\n",
              "      <td></td>\n",
              "      <td></td>\n",
              "      <td></td>\n",
              "    </tr>\n",
              "    <tr>\n",
              "      <th>4</th>\n",
              "      <td>2018-19</td>\n",
              "      <td>MIT (Mass. Inst. of Tech.)</td>\n",
              "      <td>ACHA III</td>\n",
              "      <td>8</td>\n",
              "      <td>5</td>\n",
              "      <td>10</td>\n",
              "      <td>15</td>\n",
              "      <td>8</td>\n",
              "      <td></td>\n",
              "      <td>|</td>\n",
              "      <td></td>\n",
              "      <td></td>\n",
              "      <td></td>\n",
              "      <td></td>\n",
              "      <td></td>\n",
              "      <td></td>\n",
              "      <td></td>\n",
              "    </tr>\n",
              "  </tbody>\n",
              "</table>\n",
              "</div>"
            ],
            "text/plain": [
              "         S                        Team    League  GP  G   A  ... GP G A TP PIM +/-\n",
              "0  2014-15  MIT (Mass. Inst. of Tech.)   ACHA II  17  3   9  ...                  \n",
              "1  2015-16  MIT (Mass. Inst. of Tech.)   ACHA II   9  1   1  ...                  \n",
              "2  2016-17  MIT (Mass. Inst. of Tech.)   ACHA II  12  5   5  ...                  \n",
              "3  2017-18                Did not play                       ...                  \n",
              "4  2018-19  MIT (Mass. Inst. of Tech.)  ACHA III   8  5  10  ...                  \n",
              "\n",
              "[5 rows x 17 columns]"
            ]
          },
          "metadata": {
            "tags": []
          },
          "execution_count": 108
        }
      ]
    },
    {
      "cell_type": "markdown",
      "metadata": {
        "id": "_o9ez43O661f"
      },
      "source": [
        "## Grab all the fun facts that use the word \"is\""
      ]
    },
    {
      "cell_type": "code",
      "metadata": {
        "colab": {
          "base_uri": "https://localhost:8080/"
        },
        "id": "B6lIa9304F1j",
        "outputId": "966d4e6c-7892-49a8-b9e9-614a53d804a4"
      },
      "source": [
        "import re\r\n",
        "\r\n",
        "facts = webpage.select('ul.fun-facts li')\r\n",
        "facts_with_is = [fact.find(string=re.compile('is')) for fact in facts]\r\n",
        "facts_with_is = [fact.find_parent().get_text() for fact in facts_with_is if fact]\r\n",
        "facts_with_is"
      ],
      "execution_count": 116,
      "outputs": [
        {
          "output_type": "execute_result",
          "data": {
            "text/plain": [
              "['Middle name is Ronald',\n",
              " 'Dunkin Donuts coffee is better than Starbucks',\n",
              " \"A favorite book series of mine is Ender's Game\",\n",
              " 'Current video game of choice is Rocket League',\n",
              " \"The band that I've seen the most times live is the Zac Brown Band\"]"
            ]
          },
          "metadata": {
            "tags": []
          },
          "execution_count": 116
        }
      ]
    },
    {
      "cell_type": "markdown",
      "metadata": {
        "id": "DzEVDtZL_NOl"
      },
      "source": [
        "## Download an image"
      ]
    },
    {
      "cell_type": "code",
      "metadata": {
        "id": "d5jN53Ns26ZK"
      },
      "source": [
        "\r\n",
        "# Done locally, but here is the code\r\n",
        "import requests # pip install requests\r\n",
        "from bs4 import BeautifulSoup as bs # pip install beautifulsoup4\r\n",
        "\r\n",
        "# Load the webpage content\r\n",
        "url = \"https://keithgalli.github.io/web-scraping/\"\r\n",
        "r = requests.get(url+\"webpage.html\")\r\n",
        "\r\n",
        "# Convert to a beautiful soup object\r\n",
        "webpage = bs(r.content)\r\n",
        "\r\n",
        "images = webpage.select(\"div.row div.column img\")\r\n",
        "image_url = images[0]['src']\r\n",
        "full_url = url + image_url\r\n",
        "\r\n",
        "img_data = requests.get(full_url).content\r\n",
        "with open('lake_como.jpg', 'wb') as handler:\r\n",
        "    handler.write(img_data)\r\n"
      ],
      "execution_count": 117,
      "outputs": []
    },
    {
      "cell_type": "code",
      "metadata": {
        "id": "8ltQ7ecjAUUX"
      },
      "source": [
        ""
      ],
      "execution_count": null,
      "outputs": []
    }
  ]
}